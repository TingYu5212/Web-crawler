{
 "cells": [
  {
   "cell_type": "code",
   "execution_count": null,
   "metadata": {},
   "outputs": [],
   "source": [
    "#參考網站\n",
    "#https://ithelp.ithome.com.tw/articles/10203216\n",
    "#https://tlyu0419.github.io/2019/04/06/Crawl-Dcard/\n",
    "#https://www.dcard.tw/_api/forums/pet/posts?popular=false&limit=30&before=233050496\n",
    "\n",
    "import urllib.request as req\n",
    "import requests\n",
    "from bs4 import BeautifulSoup\n",
    "import json\n",
    "import sys\n",
    "import os\n",
    "from fake_useragent import UserAgent\n",
    "import time\n",
    "import gettext\n",
    "from lxml import etree\n"
   ]
  },
  {
   "cell_type": "code",
   "execution_count": null,
   "metadata": {},
   "outputs": [],
   "source": [
    "tStart = time.time()\n",
    "ua = UserAgent()\n",
    "uar = ua.random\n",
    "chose_theme = str(input(\"請問您想選擇哪一版？\"))\n",
    "url=\"https://www.dcard.tw/f/\"+chose_theme+\"/?latest=true\"\n",
    "#url=\"https://www.dcard.tw/f/pet\"\n",
    "p = requests.Session()\n",
    "request=req.Request(url, headers={\n",
    "    \"User-Agent\":\"uaa\"\n",
    "})\n",
    "resp = requests.get(url) #回傳為一個request.Response的物件\n",
    "if(int(resp.status_code)==200):\n",
    "    print(\"Dcard伺服器狀態:連線中\")\n",
    "else:\n",
    "    print(\"Dcard伺服器狀態:失敗\")\n",
    "    os.system(\"pause\")\n",
    "    os._exit()\n",
    "html = resp.content.decode('utf-8')\n",
    "soup = BeautifulSoup(resp.text,\"lxml\")\n",
    "\n",
    "tEnd = time.time()\n",
    "print(\"It cost %f sec\" % (tEnd - tStart))#會自動做近位"
   ]
  },
  {
   "cell_type": "code",
   "execution_count": null,
   "metadata": {},
   "outputs": [],
   "source": [
    "tStart = time.time()\n",
    "sel = soup.find_all('a', class_=\"PostEntry_root_V6g0rd\")\n",
    "a=[]\n",
    "for s in sel:\n",
    "    a.append(s[\"href\"])\n",
    "    x=\"https://www.dcard.tw\"+s[\"href\"]\n",
    "    #link = \"https://www.dcard.tw/f/relationship/p/233043459\"\n",
    "    requ = requests.get(x)\n",
    "    soup1 = BeautifulSoup(requ.text,\"lxml\")\n",
    "    title = soup1.find('h1', class_=\"Post_title_2O-1el\").text\n",
    "    content = soup1.select('.Post_content_NKEl9d div div div')\n",
    "    comment = soup1.select('.CommentEntry_content_1ATrw1 div div div')\n",
    "    \n",
    "    with open(\"Content.txt\",\"a+\",encoding=\"utf-8\") as file:    \n",
    "        file.write(\"標題:\"+title+\"\\n\")\n",
    "    for tag in content:\n",
    "        tagg=str(tag) \n",
    "        with open(\"Content.txt\",\"a+\",encoding=\"utf-8\") as file:    \n",
    "            file.write(tagg.replace(\"<div>\" , \"\").replace(\"</div>\", \"\")+\"\\n\") \n",
    "    with open(\"Comment.txt\",\"a+\",encoding=\"utf-8\") as file:    \n",
    "        file.write(\"標題:\"+title+\"\\n\")  \n",
    "    for tag4 in comment:\n",
    "        tagg4=str(tag4)\n",
    "        with open(\"Comment.txt\",\"a+\",encoding=\"utf-8\") as file:    \n",
    "            file.write(tagg4.replace(\"<div>\" , \"\").replace(\"</div>\", \"\").replace(\"<span>\" , \"\").replace(\"</span>\" , \"\").replace(\"<a>\" , \"\").replace(\"</a>\" , \"\")+\"\\n\") \n",
    "        \n",
    "tEnd = time.time()\n",
    "print(\"It cost %f sec\" % (tEnd - tStart))#會自動做近位"
   ]
  }
 ],
 "metadata": {
  "kernelspec": {
   "display_name": "Python 3",
   "language": "python",
   "name": "python3"
  },
  "language_info": {
   "codemirror_mode": {
    "name": "ipython",
    "version": 3
   },
   "file_extension": ".py",
   "mimetype": "text/x-python",
   "name": "python",
   "nbconvert_exporter": "python",
   "pygments_lexer": "ipython3",
   "version": "3.7.3"
  }
 },
 "nbformat": 4,
 "nbformat_minor": 2
}
