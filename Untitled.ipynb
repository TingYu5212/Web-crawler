{
 "cells": [
  {
   "cell_type": "code",
   "execution_count": 2,
   "metadata": {},
   "outputs": [],
   "source": [
    "import urllib.request as req\n",
    "import requests\n",
    "from bs4 import BeautifulSoup\n",
    "import json\n",
    "import sys\n",
    "import os\n",
    "from fake_useragent import UserAgent\n",
    "import time\n",
    "import gettext\n",
    "import re\n",
    "from lxml import etree\n",
    "import pandas as pd"
   ]
  },
  {
   "cell_type": "code",
   "execution_count": 19,
   "metadata": {},
   "outputs": [
    {
     "ename": "KeyError",
     "evalue": "'comment'",
     "output_type": "error",
     "traceback": [
      "\u001b[1;31m---------------------------------------------------------------------------\u001b[0m",
      "\u001b[1;31mKeyError\u001b[0m                                  Traceback (most recent call last)",
      "\u001b[1;32m<ipython-input-19-cc192991e1fa>\u001b[0m in \u001b[0;36m<module>\u001b[1;34m\u001b[0m\n\u001b[0;32m      9\u001b[0m \u001b[0mdf\u001b[0m \u001b[1;33m=\u001b[0m \u001b[0mpd\u001b[0m\u001b[1;33m.\u001b[0m\u001b[0mDataFrame\u001b[0m\u001b[1;33m(\u001b[0m\u001b[1;33m)\u001b[0m\u001b[1;33m\u001b[0m\u001b[1;33m\u001b[0m\u001b[0m\n\u001b[0;32m     10\u001b[0m \u001b[1;32mfor\u001b[0m \u001b[0mi\u001b[0m \u001b[1;32min\u001b[0m \u001b[0mrange\u001b[0m\u001b[1;33m(\u001b[0m\u001b[0mlen\u001b[0m\u001b[1;33m(\u001b[0m\u001b[0mrejs\u001b[0m\u001b[1;33m)\u001b[0m\u001b[1;33m)\u001b[0m\u001b[1;33m:\u001b[0m\u001b[1;33m\u001b[0m\u001b[1;33m\u001b[0m\u001b[0m\n\u001b[1;32m---> 11\u001b[1;33m     \u001b[0mdf\u001b[0m \u001b[1;33m=\u001b[0m \u001b[0mdf\u001b[0m\u001b[1;33m.\u001b[0m\u001b[0mappend\u001b[0m\u001b[1;33m(\u001b[0m\u001b[0mCrawl\u001b[0m\u001b[1;33m(\u001b[0m\u001b[0mrejs\u001b[0m\u001b[1;33m[\u001b[0m\u001b[0mi\u001b[0m\u001b[1;33m]\u001b[0m\u001b[1;33m[\u001b[0m\u001b[1;34m'id'\u001b[0m\u001b[1;33m]\u001b[0m\u001b[1;33m)\u001b[0m\u001b[1;33m,\u001b[0m\u001b[0mignore_index\u001b[0m\u001b[1;33m=\u001b[0m\u001b[1;32mTrue\u001b[0m\u001b[1;33m)\u001b[0m\u001b[1;33m\u001b[0m\u001b[1;33m\u001b[0m\u001b[0m\n\u001b[0m\u001b[0;32m     12\u001b[0m \u001b[0mprint\u001b[0m\u001b[1;33m(\u001b[0m\u001b[0mdf\u001b[0m\u001b[1;33m.\u001b[0m\u001b[0mshape\u001b[0m\u001b[1;33m)\u001b[0m\u001b[1;33m\u001b[0m\u001b[1;33m\u001b[0m\u001b[0m\n\u001b[0;32m     13\u001b[0m \u001b[0mdf\u001b[0m\u001b[1;33m\u001b[0m\u001b[1;33m\u001b[0m\u001b[0m\n",
      "\u001b[1;32m<ipython-input-17-82b7659c8848>\u001b[0m in \u001b[0;36mCrawl\u001b[1;34m(ID)\u001b[0m\n\u001b[0;32m     10\u001b[0m           \u001b[1;34m'excerpt'\u001b[0m\u001b[1;33m:\u001b[0m\u001b[0mrejs\u001b[0m\u001b[1;33m[\u001b[0m\u001b[1;34m'excerpt'\u001b[0m\u001b[1;33m]\u001b[0m\u001b[1;33m,\u001b[0m\u001b[1;33m\u001b[0m\u001b[1;33m\u001b[0m\u001b[0m\n\u001b[0;32m     11\u001b[0m           \u001b[1;34m'createdAt'\u001b[0m\u001b[1;33m:\u001b[0m\u001b[0mrejs\u001b[0m\u001b[1;33m[\u001b[0m\u001b[1;34m'createdAt'\u001b[0m\u001b[1;33m]\u001b[0m\u001b[1;33m,\u001b[0m\u001b[1;33m\u001b[0m\u001b[1;33m\u001b[0m\u001b[0m\n\u001b[1;32m---> 12\u001b[1;33m           'comment':rejs['comment']}],\n\u001b[0m\u001b[0;32m     13\u001b[0m         columns=['ID','title','content','excerpt','createdAt','comment']))\n",
      "\u001b[1;31mKeyError\u001b[0m: 'comment'"
     ]
    }
   ],
   "source": [
    "url = 'https://www.dcard.tw/_api/posts?popular=true&limit=100'\n",
    "ua = UserAgent()\n",
    "uar = ua.random\n",
    "p = requests.Session()\n",
    "#r = p.get(\"https://www.dcard.tw/_api/forums/pet/posts\",params=post_data, headers = { \"Referer\": \"https://www.dcard.tw/\", \"User-Agent\": \"uaa\" })\n",
    "\n",
    "resq = requests.get(url)\n",
    "rejs = resq.json()\n",
    "df = pd.DataFrame()\n",
    "for i in range(len(rejs)):\n",
    "    df = df.append(Crawl(rejs[i]['id']),ignore_index=True)\n",
    "print(df.shape)\n",
    "df"
   ]
  },
  {
   "cell_type": "code",
   "execution_count": 13,
   "metadata": {},
   "outputs": [
    {
     "ename": "TypeError",
     "evalue": "list indices must be integers or slices, not str",
     "output_type": "error",
     "traceback": [
      "\u001b[1;31m---------------------------------------------------------------------------\u001b[0m",
      "\u001b[1;31mTypeError\u001b[0m                                 Traceback (most recent call last)",
      "\u001b[1;32m<ipython-input-13-58f68314df2b>\u001b[0m in \u001b[0;36m<module>\u001b[1;34m\u001b[0m\n\u001b[0;32m      1\u001b[0m pd.DataFrame(\n\u001b[0;32m      2\u001b[0m     \u001b[0mdata\u001b[0m\u001b[1;33m=\u001b[0m\u001b[1;33m\u001b[0m\u001b[1;33m\u001b[0m\u001b[0m\n\u001b[1;32m----> 3\u001b[1;33m     [{'ID':rejs['id'],\n\u001b[0m\u001b[0;32m      4\u001b[0m       \u001b[1;34m'title'\u001b[0m\u001b[1;33m:\u001b[0m\u001b[0mrejs\u001b[0m\u001b[1;33m[\u001b[0m\u001b[1;34m'title'\u001b[0m\u001b[1;33m]\u001b[0m\u001b[1;33m,\u001b[0m\u001b[1;33m\u001b[0m\u001b[1;33m\u001b[0m\u001b[0m\n\u001b[0;32m      5\u001b[0m       \u001b[1;34m'content'\u001b[0m\u001b[1;33m:\u001b[0m\u001b[0mrejs\u001b[0m\u001b[1;33m[\u001b[0m\u001b[1;34m'content'\u001b[0m\u001b[1;33m]\u001b[0m\u001b[1;33m,\u001b[0m\u001b[1;33m\u001b[0m\u001b[1;33m\u001b[0m\u001b[0m\n",
      "\u001b[1;31mTypeError\u001b[0m: list indices must be integers or slices, not str"
     ]
    }
   ],
   "source": [
    "pd.DataFrame(\n",
    "    data=\n",
    "    [{'ID':rejs['id'],\n",
    "      'title':rejs['title'],\n",
    "      'content':rejs['content'],\n",
    "      'excerpt':rejs['excerpt'],\n",
    "      'createdAt':rejs['createdAt'],\n",
    "      'updatedAt':rejs['updatedAt'],\n",
    "      'commentCount':rejs['commentCount'],\n",
    "      'forumName':rejs['forumName'],\n",
    "     'forumAlias':rejs['forumAlias'],\n",
    "      'gender':rejs['gender'],\n",
    "      'likeCount':rejs['likeCount'],\n",
    "      'reactions':rejs['reactions'],\n",
    "      'topics':rejs['topics']}],\n",
    "    columns=['ID','title','content','excerpt','createdAt','updatedAt','commentCount','forumName','forumAlias','gender','likeCount','reactions','topics'])\n"
   ]
  },
  {
   "cell_type": "code",
   "execution_count": 18,
   "metadata": {},
   "outputs": [
    {
     "ename": "TypeError",
     "evalue": "list indices must be integers or slices, not str",
     "output_type": "error",
     "traceback": [
      "\u001b[1;31m---------------------------------------------------------------------------\u001b[0m",
      "\u001b[1;31mTypeError\u001b[0m                                 Traceback (most recent call last)",
      "\u001b[1;32m<ipython-input-18-cfd3320ed641>\u001b[0m in \u001b[0;36m<module>\u001b[1;34m\u001b[0m\n\u001b[0;32m      1\u001b[0m pd.DataFrame(\n\u001b[0;32m      2\u001b[0m     \u001b[0mdata\u001b[0m\u001b[1;33m=\u001b[0m\u001b[1;33m\u001b[0m\u001b[1;33m\u001b[0m\u001b[0m\n\u001b[1;32m----> 3\u001b[1;33m     [{'ID':rejs['id'],\n\u001b[0m\u001b[0;32m      4\u001b[0m       \u001b[1;34m'title'\u001b[0m\u001b[1;33m:\u001b[0m\u001b[0mrejs\u001b[0m\u001b[1;33m[\u001b[0m\u001b[1;34m'title'\u001b[0m\u001b[1;33m]\u001b[0m\u001b[1;33m,\u001b[0m\u001b[1;33m\u001b[0m\u001b[1;33m\u001b[0m\u001b[0m\n\u001b[0;32m      5\u001b[0m       \u001b[1;34m'content'\u001b[0m\u001b[1;33m:\u001b[0m\u001b[0mrejs\u001b[0m\u001b[1;33m[\u001b[0m\u001b[1;34m'content'\u001b[0m\u001b[1;33m]\u001b[0m\u001b[1;33m,\u001b[0m\u001b[1;33m\u001b[0m\u001b[1;33m\u001b[0m\u001b[0m\n",
      "\u001b[1;31mTypeError\u001b[0m: list indices must be integers or slices, not str"
     ]
    }
   ],
   "source": [
    "pd.DataFrame(\n",
    "    data=\n",
    "    [{'ID':rejs['id'],\n",
    "      'title':rejs['title'],\n",
    "      'content':rejs['content'],\n",
    "      'excerpt':rejs['excerpt'],\n",
    "      'createdAt':rejs['createdAt'],\n",
    "      'comment':rejs['comment']}],\n",
    "    columns=['ID','title','content','excerpt','createdAt','comment'])"
   ]
  },
  {
   "cell_type": "code",
   "execution_count": null,
   "metadata": {},
   "outputs": [],
   "source": [
    "# 透過迴圈讀取10*100篇文章，若需讀取更多資料，可以將range(10)中的數值提升\n",
    "for j in range(10):\n",
    "    last = str(int(df.tail(1).ID)) # 找出爬出資料的最後一筆ID\n",
    "    url = 'https://www.dcard.tw/_api/posts?popular=true&limit=100&before=' + last\n",
    "    resq = requests.get(url)\n",
    "    rejs = resq.json()\n",
    "    for i in range(len(rejs)):\n",
    "        df = df.append(Crawl(rejs[i]['id']), ignore_index=True)\n",
    "print(df.shape)\n",
    "df"
   ]
  },
  {
   "cell_type": "code",
   "execution_count": 6,
   "metadata": {},
   "outputs": [],
   "source": [
    "def Crawl(ID):\n",
    "    link = 'https://www.dcard.tw/_api/posts/' + str(ID)\n",
    "    requ = requests.get(link)\n",
    "    rejs = requ.json()\n",
    "    return(pd.DataFrame(\n",
    "        data=\n",
    "        [{'ID':rejs['id'],\n",
    "          'title':rejs['title'],\n",
    "          'content':rejs['content'],\n",
    "          'excerpt':rejs['excerpt'],\n",
    "          'createdAt':rejs['createdAt'],\n",
    "          'updatedAt':rejs['updatedAt'],\n",
    "          'commentCount':rejs['commentCount'],\n",
    "          'forumName':rejs['forumName'],\n",
    "          'forumAlias':rejs['forumAlias'],\n",
    "          'gender':rejs['gender'],\n",
    "          'likeCount':rejs['likeCount'],\n",
    "          'reactions':rejs['reactions'],\n",
    "          'topics':rejs['topics']}],\n",
    "        columns=['ID','title','content','excerpt','createdAt','updatedAt','commentCount','forumName','forumAlias','gender','likeCount','reactions','topics']))"
   ]
  },
  {
   "cell_type": "code",
   "execution_count": 17,
   "metadata": {},
   "outputs": [],
   "source": [
    "def Crawl(ID):\n",
    "    link = 'https://www.dcard.tw/_api/posts/' + str(ID)\n",
    "    requ = requests.get(link)\n",
    "    rejs = requ.json()\n",
    "    return(pd.DataFrame(\n",
    "        data=\n",
    "        [{'ID':rejs['id'],\n",
    "          'title':rejs['title'],\n",
    "          'content':rejs['content'],\n",
    "          'excerpt':rejs['excerpt'],\n",
    "          'createdAt':rejs['createdAt'],\n",
    "          'comment':rejs['comment']}],\n",
    "        columns=['ID','title','content','excerpt','createdAt','comment']))"
   ]
  },
  {
   "cell_type": "code",
   "execution_count": null,
   "metadata": {},
   "outputs": [],
   "source": [
    "df.to_excel('C:/Users/TLYu0419/Desktop/Dcard.xlsx')"
   ]
  },
  {
   "cell_type": "code",
   "execution_count": null,
   "metadata": {},
   "outputs": [],
   "source": []
  },
  {
   "cell_type": "code",
   "execution_count": null,
   "metadata": {},
   "outputs": [],
   "source": []
  }
 ],
 "metadata": {
  "kernelspec": {
   "display_name": "Python 3",
   "language": "python",
   "name": "python3"
  },
  "language_info": {
   "codemirror_mode": {
    "name": "ipython",
    "version": 3
   },
   "file_extension": ".py",
   "mimetype": "text/x-python",
   "name": "python",
   "nbconvert_exporter": "python",
   "pygments_lexer": "ipython3",
   "version": "3.7.3"
  }
 },
 "nbformat": 4,
 "nbformat_minor": 2
}
